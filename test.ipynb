{
 "cells": [
  {
   "cell_type": "code",
   "execution_count": 1,
   "metadata": {},
   "outputs": [],
   "source": [
    "import numpy as np\n",
    "from scipy import stats"
   ]
  },
  {
   "cell_type": "code",
   "execution_count": 2,
   "metadata": {},
   "outputs": [],
   "source": [
    "nino34 = np.random.randint(low=0, high=10, size=(36))\n",
    "IMR = np.random.randint(low=0, high=10, size=(36))\n",
    "hgt = np.random.randint(low=0, high=10, size=(36))"
   ]
  },
  {
   "cell_type": "code",
   "execution_count": 3,
   "metadata": {},
   "outputs": [],
   "source": [
    "linre_DJFnino34_sIndR = stats.linregress(nino34, IMR)\n",
    "sIndR_GPCP_ENSO_related = linre_DJFnino34_sIndR[0]*nino34+linre_DJFnino34_sIndR[1]\n",
    "sIndR_GPCP_ENSO_unrelated = IMR - sIndR_GPCP_ENSO_related\n",
    "del(IMR)\n",
    "# sIndR_GPCP_ENSO_related_nor = ca.standardize(sIndR_GPCP_ENSO_related)\n",
    "# sIndR_GPCP_ENSO_unrelated_nor = ca.standardize(sIndR_GPCP_ENSO_unrelated)"
   ]
  },
  {
   "cell_type": "code",
   "execution_count": 4,
   "metadata": {},
   "outputs": [
    {
     "name": "stdout",
     "output_type": "stream",
     "text": [
      "[4.67727791 4.86354468 4.11847759 3.93221082 4.67727791 3.55967728\n",
      " 5.23607823 3.93221082 4.86354468 4.11847759 4.49101114 4.11847759\n",
      " 4.11847759 3.93221082 5.04981145 3.74594405 5.04981145 4.11847759\n",
      " 4.49101114 3.93221082 5.04981145 4.67727791 5.23607823 5.23607823\n",
      " 3.55967728 4.67727791 4.86354468 4.67727791 5.23607823 4.11847759\n",
      " 5.23607823 5.04981145 4.30474437 3.55967728 3.93221082 3.55967728]\n"
     ]
    }
   ],
   "source": [
    "print(sIndR_GPCP_ENSO_related)"
   ]
  },
  {
   "cell_type": "code",
   "execution_count": 5,
   "metadata": {},
   "outputs": [
    {
     "data": {
      "text/plain": [
       "LinregressResult(slope=0.17372881355932213, intercept=4.366760828625235, rvalue=0.036257858261787075, pvalue=0.8337157480059116, stderr=0.8211917766764324, intercept_stderr=3.677835239055611)"
      ]
     },
     "execution_count": 5,
     "metadata": {},
     "output_type": "execute_result"
    }
   ],
   "source": [
    "stats.linregress(sIndR_GPCP_ENSO_related, hgt)"
   ]
  },
  {
   "cell_type": "code",
   "execution_count": 6,
   "metadata": {},
   "outputs": [
    {
     "data": {
      "text/plain": [
       "LinregressResult(slope=-0.03990346820889112, intercept=5.138888888888889, rvalue=-0.04002928752429511, pvalue=0.8166993572085803, stderr=0.1708225110737798, intercept_stderr=0.45365371761374657)"
      ]
     },
     "execution_count": 6,
     "metadata": {},
     "output_type": "execute_result"
    }
   ],
   "source": [
    "stats.linregress(sIndR_GPCP_ENSO_unrelated, hgt)"
   ]
  },
  {
   "cell_type": "code",
   "execution_count": 7,
   "metadata": {},
   "outputs": [
    {
     "data": {
      "text/plain": [
       "LinregressResult(slope=0.03235990528808208, intercept=4.985179338770499, rvalue=0.03625785826178705, pvalue=0.8337157480059117, stderr=0.15296074135409476, intercept_stderr=0.8565953261252418)"
      ]
     },
     "execution_count": 7,
     "metadata": {},
     "output_type": "execute_result"
    }
   ],
   "source": [
    "stats.linregress(nino34, hgt)"
   ]
  },
  {
   "cell_type": "code",
   "execution_count": null,
   "metadata": {},
   "outputs": [],
   "source": []
  }
 ],
 "metadata": {
  "kernelspec": {
   "display_name": "chenhj_test_cartopy",
   "language": "python",
   "name": "python3"
  },
  "language_info": {
   "codemirror_mode": {
    "name": "ipython",
    "version": 3
   },
   "file_extension": ".py",
   "mimetype": "text/x-python",
   "name": "python",
   "nbconvert_exporter": "python",
   "pygments_lexer": "ipython3",
   "version": "3.8.6"
  },
  "orig_nbformat": 4,
  "vscode": {
   "interpreter": {
    "hash": "a403b5a08d9e419105ca972cad2b530db9b85044edbc4b73e170b411b22d73a6"
   }
  }
 },
 "nbformat": 4,
 "nbformat_minor": 2
}
