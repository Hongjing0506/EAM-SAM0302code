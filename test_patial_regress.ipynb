{
 "cells": [
  {
   "cell_type": "code",
   "execution_count": 9,
   "metadata": {},
   "outputs": [],
   "source": [
    "import random\n",
    "import numpy as np\n",
    "import pandas as pd\n",
    "random.seed(88)\n",
    "# a = np.array(random.sample(range(100),10))\n",
    "# b = 0.3*a\n",
    "data_x=pd.DataFrame({\"a\":random.sample(range(100),10)})\n",
    "data_y=pd.Series(random.sample(range(200),10))\n",
    "data_y.name=\"y\""
   ]
  },
  {
   "cell_type": "code",
   "execution_count": 11,
   "metadata": {},
   "outputs": [
    {
     "data": {
      "text/plain": [
       "93.7"
      ]
     },
     "execution_count": 11,
     "metadata": {},
     "output_type": "execute_result"
    }
   ],
   "source": [
    "np.mean(data_y)"
   ]
  },
  {
   "cell_type": "code",
   "execution_count": 17,
   "metadata": {},
   "outputs": [],
   "source": [
    "data_y_new = data_y - stats.linregress(np.arange(1,11), data_y)[0]*np.arange(1,11)"
   ]
  },
  {
   "cell_type": "code",
   "execution_count": 18,
   "metadata": {},
   "outputs": [
    {
     "data": {
      "text/plain": [
       "106.93333333333332"
      ]
     },
     "execution_count": 18,
     "metadata": {},
     "output_type": "execute_result"
    }
   ],
   "source": [
    "np.mean(data_y_new)"
   ]
  },
  {
   "cell_type": "code",
   "execution_count": 19,
   "metadata": {},
   "outputs": [],
   "source": [
    "data_y_new = data_y - stats.linregress(np.arange(1979,1989), data_y)[0]*np.arange(1979,1989)"
   ]
  },
  {
   "cell_type": "code",
   "execution_count": 20,
   "metadata": {},
   "outputs": [
    {
     "data": {
      "text/plain": [
       "4866.121212121211"
      ]
     },
     "execution_count": 20,
     "metadata": {},
     "output_type": "execute_result"
    }
   ],
   "source": [
    "np.mean(data_y_new)"
   ]
  },
  {
   "cell_type": "code",
   "execution_count": 21,
   "metadata": {},
   "outputs": [
    {
     "data": {
      "text/plain": [
       "LinregressResult(slope=-2.406060606060606, intercept=106.93333333333334, rvalue=-0.12077958583584865, pvalue=0.7396151897210818, stderr=6.991607194787729, intercept_stderr=43.38178177413867)"
      ]
     },
     "execution_count": 21,
     "metadata": {},
     "output_type": "execute_result"
    }
   ],
   "source": [
    "stats.linregress(np.arange(1,11), data_y)"
   ]
  },
  {
   "cell_type": "code",
   "execution_count": 22,
   "metadata": {},
   "outputs": [
    {
     "data": {
      "text/plain": [
       "LinregressResult(slope=-2.406060606060606, intercept=4866.121212121211, rvalue=-0.12077958583584865, pvalue=0.7396151897210818, stderr=6.991607194787729, intercept_stderr=13867.867410999883)"
      ]
     },
     "execution_count": 22,
     "metadata": {},
     "output_type": "execute_result"
    }
   ],
   "source": [
    "stats.linregress(np.arange(1979,1989), data_y)"
   ]
  },
  {
   "cell_type": "code",
   "execution_count": 23,
   "metadata": {},
   "outputs": [
    {
     "data": {
      "text/plain": [
       "LinregressResult(slope=0.9999999999999994, intercept=-4759.187878787875, rvalue=1.0, pvalue=4.375000000000076e-80, stderr=0.0, intercept_stderr=0.0)"
      ]
     },
     "execution_count": 23,
     "metadata": {},
     "output_type": "execute_result"
    }
   ],
   "source": [
    "stats.linregress(data_y - stats.linregress(np.arange(1979,1989), data_y)[0]*np.arange(1979,1989), data_y - stats.linregress(np.arange(1,11), data_y)[0]*np.arange(1,11))"
   ]
  },
  {
   "cell_type": "code",
   "execution_count": null,
   "metadata": {},
   "outputs": [],
   "source": [
    "# 计算新的变量\n",
    "#x'\n",
    "xprime = data_x[\"a\"] - stats.linregress(data_x[\"b\"], data_x[\"a\"])[0]*data_x[\"b\"] + stats.linregress(data_x[\"b\"], data_x[\"a\"])[1]\n",
    "yprime = data_y - stats.linregress(data_x[\"b\"], data_y)[0]*data_x[\"b\"] + stats.linregress(data_x[\"b\"], data_y)[1]"
   ]
  },
  {
   "cell_type": "code",
   "execution_count": null,
   "metadata": {},
   "outputs": [],
   "source": [
    "stats.linregress(xprime, yprime)"
   ]
  },
  {
   "cell_type": "code",
   "execution_count": null,
   "metadata": {},
   "outputs": [],
   "source": [
    "xprime = data_x[\"b\"] - stats.linregress(data_x[\"a\"], data_x[\"b\"])[0]*data_x[\"a\"] + stats.linregress(data_x[\"a\"], data_x[\"b\"])[1]\n",
    "yprime = data_y - stats.linregress(data_x[\"a\"], data_y)[0]*data_x[\"a\"] + stats.linregress(data_x[\"a\"], data_y)[1]"
   ]
  },
  {
   "cell_type": "code",
   "execution_count": null,
   "metadata": {},
   "outputs": [],
   "source": [
    "stats.linregress(xprime, yprime)"
   ]
  },
  {
   "cell_type": "code",
   "execution_count": null,
   "metadata": {},
   "outputs": [],
   "source": [
    "import statsmodels.api as sm\n",
    "mod = sm.OLS(data_y, sm.add_constant(data_x))\n",
    "res = mod.fit()\n",
    "res.summary()\n",
    "# mod"
   ]
  },
  {
   "cell_type": "code",
   "execution_count": null,
   "metadata": {},
   "outputs": [],
   "source": [
    "res.resid\n"
   ]
  },
  {
   "cell_type": "code",
   "execution_count": null,
   "metadata": {},
   "outputs": [],
   "source": [
    "getattr(np.array(mod))"
   ]
  },
  {
   "cell_type": "code",
   "execution_count": null,
   "metadata": {},
   "outputs": [],
   "source": [
    "np.atleast_1d(np.array(mod))[0]"
   ]
  },
  {
   "cell_type": "code",
   "execution_count": null,
   "metadata": {},
   "outputs": [],
   "source": [
    "stats.linregress((0.1201*data_x[\"a\"]), -0.3729*data_x[\"b\"])"
   ]
  },
  {
   "cell_type": "code",
   "execution_count": null,
   "metadata": {},
   "outputs": [],
   "source": []
  }
 ],
 "metadata": {
  "kernelspec": {
   "display_name": "Python 3.8.11 ('chenhj')",
   "language": "python",
   "name": "python3"
  },
  "language_info": {
   "codemirror_mode": {
    "name": "ipython",
    "version": 3
   },
   "file_extension": ".py",
   "mimetype": "text/x-python",
   "name": "python",
   "nbconvert_exporter": "python",
   "pygments_lexer": "ipython3",
   "version": "3.8.11"
  },
  "orig_nbformat": 4,
  "vscode": {
   "interpreter": {
    "hash": "e0fa63790d53d2ab682d05beba9048c8687eff8f27842f8d9fc557eedf9873fa"
   }
  }
 },
 "nbformat": 4,
 "nbformat_minor": 2
}
