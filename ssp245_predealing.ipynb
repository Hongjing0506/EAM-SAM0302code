{
 "cells": [
  {
   "cell_type": "code",
   "execution_count": null,
   "metadata": {},
   "outputs": [],
   "source": [
    "from mailbox import _PartialFile\n",
    "import numpy as np\n",
    "import xarray as xr\n",
    "import os\n",
    "import re\n",
    "from cdo import *\n",
    "import shutil\n",
    "import sys\n",
    "\n",
    "sys.path.append(\"/home/ys17-23/chenhj/self_def/\")\n",
    "import plot as sepl\n",
    "import cal as ca\n",
    "import pandas as pd\n",
    "from importlib import reload\n",
    "\n",
    "import metpy.calc as mpcalc\n",
    "import metpy.constants as constants\n",
    "import geocat.comp\n",
    "from windspharm.xarray import VectorWind\n",
    "import skill_metrics as sm\n",
    "from brokenaxes import brokenaxes\n",
    "\n",
    "reload(ca)\n",
    "\n",
    "# sd.path.append(\"/home/ys17-23/chenhj/1201code/self_def.py\")\n",
    "\n",
    "cdo = Cdo()\n",
    "\n",
    "# for plot\n",
    "import proplot as pplt\n",
    "import cartopy.crs as ccrs\n",
    "import cartopy.feature as cfeature\n",
    "from cartopy.mpl.ticker import LongitudeFormatter\n",
    "from cartopy.mpl.ticker import LatitudeFormatter\n",
    "from cartopy.util import add_cyclic_point\n",
    "from matplotlib.ticker import MultipleLocator\n",
    "from matplotlib.patches import Rectangle\n",
    "import matplotlib.pyplot as plt\n",
    "from scipy import stats\n",
    "from scipy.stats import t\n",
    "from scipy import signal\n",
    "from eofs.multivariate.standard import MultivariateEof\n",
    "from eofs.standard import Eof\n",
    "import statsmodels.api as sm\n",
    "import metpy.constants as constants"
   ]
  },
  {
   "cell_type": "markdown",
   "metadata": {},
   "source": [
    "# 模式数据年份合并及空间插值"
   ]
  },
  {
   "cell_type": "code",
   "execution_count": null,
   "metadata": {},
   "outputs": [],
   "source": [
    "# modelname = [\"ACCESS-CM2\", \"BCC-CSM2-MR\", \"CAMS-CSM1-0\", \"CanESM5\", \"CESM2\", \"CESM2-WACCM\", \"CMCC-ESM2\", \"CNRM-CM6-1\", \"CNRM-ESM2-1\", \"EC-Earth3-Veg\", \"EC-Earth3\", \"FGOALS-g3\", \"GFDL-CM4\", \"HadGEM3-GC31-LL\", \"IITM-ESM\", \"INM-CM4-8\", \"INM-CM5-0\", \"IPSL-CM6A-LR\", \"KACE-1-0-G\", \"MIROC-ES2L\", \"MIROC6\", \"MPI-ESM1-2-HR\", \"MRI-ESM2-0\", \"NESM3\", \"NorESM2-LM\", \"TaiESM1\", \"UKESM1-0-LL\"]\n",
    "# rlzn = [\"r1i1p1f1\", \"r1i1p1f1\", \"r1i1p1f1\", \"r1i1p1f1\", \"r11i1p1f1\", \"r1i1p1f1\", \"r1i1p1f1\", \"r1i1p1f2\", \"r1i1p1f2\", \"r1i1p1f1\", \"r1i1p1f1\", \"r1i1p1f1\", \"r1i1p1f1\", \"r1i1p1f3\", \"r1i1p1f1\", \"r1i1p1f1\", \"r1i1p1f1\", \"r1i1p1f1\", \"r1i1p1f1\", \"r1i1p1f2\", \"r1i1p1f1\", \"r1i1p1f1\", \"r1i1p1f1\", \"r1i1p1f1\", \"r1i1p1f1\", \"r1i1p1f1\", \"r3i1p1f2\"]\n",
    "\n",
    "modelname = [\"EC-Earth3\"]\n",
    "rlzn = [\"r1i1p1f1\"]\n",
    "for model,rl in zip(modelname, rlzn):\n",
    "    print(model)\n",
    "    srcPath = \"/home/ys17-23/Extension/CMIP6/CMIP6/\"+ model +\"/ssp245/\" + rl + \"/Amon\"\n",
    "    tmpPath = \"/home/ys17-23/Extension/CMIP6/CMIP6/tmpPath\"\n",
    "    dstPath = \"/home/ys17-23/Extension/personal-data/chenhj/CMIP6/ssp245\"\n",
    "    # variable = [\"hfls\", \"hus\", \"pr\", \"ps\", \"ta\", \"ts\", \"ua\", \"va\", \"wap\", \"zg\"]\n",
    "    variable = [\"ps\"]\n",
    "    freq = \"Amon\"\n",
    "    ca.CMIP6_predealing_1(srcPath, tmpPath, dstPath, variable, freq, rl)"
   ]
  },
  {
   "cell_type": "code",
   "execution_count": null,
   "metadata": {},
   "outputs": [],
   "source": [
    "modelname = [\"ACCESS-CM2\", \"BCC-CSM2-MR\", \"CAMS-CSM1-0\", \"CanESM5\", \"CESM2\", \"CESM2-WACCM\", \"CMCC-ESM2\", \"CNRM-CM6-1\", \"CNRM-ESM2-1\", \"EC-Earth3-Veg\", \"EC-Earth3\", \"FGOALS-g3\", \"GFDL-CM4\", \"HadGEM3-GC31-LL\", \"IITM-ESM\", \"INM-CM4-8\", \"INM-CM5-0\", \"IPSL-CM6A-LR\", \"KACE-1-0-G\", \"MIROC-ES2L\", \"MIROC6\", \"MPI-ESM1-2-HR\", \"MRI-ESM2-0\", \"NESM3\", \"NorESM2-LM\", \"TaiESM1\", \"UKESM1-0-LL\"]\n",
    "rlzn = [\"r1i1p1f1\", \"r1i1p1f1\", \"r1i1p1f1\", \"r1i1p1f1\", \"r11i1p1f1\", \"r1i1p1f1\", \"r1i1p1f1\", \"r1i1p1f2\", \"r1i1p1f2\", \"r1i1p1f1\", \"r1i1p1f1\", \"r1i1p1f1\", \"r1i1p1f1\", \"r1i1p1f3\", \"r1i1p1f1\", \"r1i1p1f1\", \"r1i1p1f1\", \"r1i1p1f1\", \"r1i1p1f1\", \"r1i1p1f2\", \"r1i1p1f1\", \"r1i1p1f1\", \"r1i1p1f1\", \"r1i1p1f1\", \"r1i1p1f1\", \"r1i1p1f1\", \"r3i1p1f2\"]\n",
    "for model,rl in zip(modelname, rlzn):\n",
    "    print(model)\n",
    "    srcPath = \"/home/ys17-23/Extension/CMIP6/CMIP6/\"+ model +\"/ssp245/\" + rl + \"/Amon\"\n",
    "    tmpPath = \"/home/ys17-23/Extension/CMIP6/CMIP6/tmpPath\"\n",
    "    dstPath = \"/home/ys17-23/Extension/personal-data/chenhj/CMIP6/ssp245\"\n",
    "    variable = [\"tos\"]\n",
    "    freq = \"Omon\"\n",
    "    ca.CMIP6_predealing_1(srcPath, tmpPath, dstPath, variable, freq, rl)"
   ]
  },
  {
   "cell_type": "code",
   "execution_count": null,
   "metadata": {},
   "outputs": [],
   "source": [
    "modelname = [\"ACCESS-CM2\", \"BCC-CSM2-MR\", \"CAMS-CSM1-0\", \"CanESM5\", \"CESM2\", \"CESM2-WACCM\", \"CMCC-ESM2\", \"CNRM-CM6-1\", \"CNRM-ESM2-1\", \"EC-Earth3-Veg\", \"EC-Earth3\", \"FGOALS-g3\", \"GFDL-CM4\", \"HadGEM3-GC31-LL\", \"IITM-ESM\", \"INM-CM4-8\", \"INM-CM5-0\", \"IPSL-CM6A-LR\", \"KACE-1-0-G\", \"MIROC-ES2L\", \"MIROC6\", \"MPI-ESM1-2-HR\", \"MRI-ESM2-0\", \"NESM3\", \"NorESM2-LM\", \"TaiESM1\", \"UKESM1-0-LL\"]\n",
    "yearstart = \"201501\"\n",
    "yearend = [\"210012\", \"210012\", \"209912\", \"209912\", \"210012\", \"210012\", \"210012\", \"210012\", \"210012\", \"210012\", \"210012\", \"210012\", \"210012\", \"210012\", \"210012\", \"210012\", \"210012\", \"210012\", \"210012\", \"210012\", \"210012\", \"210012\", \"210012\", \"210012\", \"210012\", \"210012\", \"210012\"]\n",
    "dstPath = \"/home/ys17-23/Extension/personal-data/chenhj/CMIP6/ssp245\"\n",
    "variable = [\"hfls\", \"hus\", \"pr\", \"ps\", \"ta\", \"ts\", \"ua\", \"va\", \"wap\", \"zg\"]\n",
    "\n",
    "for var in variable:\n",
    "    dstpath = os.path.join(dstPath, var)\n",
    "    ca.CMIP6_check(dstpath, modelname, yearstart, yearend)"
   ]
  },
  {
   "cell_type": "code",
   "execution_count": null,
   "metadata": {},
   "outputs": [],
   "source": [
    "variable = [\"hfls\", \"hus\", \"pr\", \"ps\", \"ta\", \"tos\", \"ts\", \"ua\", \"va\", \"wap\", \"zg\"]\n",
    "for var in variable:\n",
    "    srcPath = \"/home/ys17-23/Extension/personal-data/chenhj/CMIP6/ssp245/\" + var\n",
    "    dstPath = \"/home/ys17-23/Extension/personal-data/chenhj/SAM_EAM_data/CMIP6/ssp245/\" + var\n",
    "    start = 2015\n",
    "    end = 2099\n",
    "    ca.p_year(srcPath, dstPath, start, end)"
   ]
  },
  {
   "cell_type": "markdown",
   "metadata": {},
   "source": [
    "# 统一时间维度"
   ]
  },
  {
   "cell_type": "code",
   "execution_count": null,
   "metadata": {},
   "outputs": [],
   "source": [
    "path1 = \"/home/ys17-23/Extension/personal-data/chenhj/SAM_EAM_data/CMIP6/ssp2452\"\n",
    "variable = [\"hfls\", \"hus\", \"pr\", \"ps\", \"ta\", \"ts\", \"tos\", \"ua\", \"va\", \"wap\", \"zg\"]\n",
    "for var in variable:\n",
    "    varpath = os.path.join(path1, var)\n",
    "    g = os.walk(varpath)\n",
    "    for path, dir_list, file_list in g:\n",
    "        for filename in file_list:\n",
    "            print(filename)\n",
    "            ca.uniform_timestamp(os.path.join(path, filename), os.path.join(\"/home/ys17-23/Extension/personal-data/chenhj/SAM_EAM_data/CMIP6/ssp245\", var, filename), var, \"20150101\", \"20991201\", \"MS\")"
   ]
  },
  {
   "cell_type": "markdown",
   "metadata": {},
   "source": [
    "# 统一垂直维度"
   ]
  },
  {
   "cell_type": "code",
   "execution_count": null,
   "metadata": {},
   "outputs": [],
   "source": [
    "def uniform_plev(filepath, dstpath, var):\n",
    "    plev = np.array([100000.0, 92500.0, 85000.0, 70000.0, 60000.0, 50000.0, 40000.0, 30000.0, 25000.0, 20000.0, 15000.0, 10000.0, 7000.0, 5000.0, 3000.0, 2000.0, 1000.0, 500.0, 100.0])\n",
    "    f = xr.open_dataset(filepath)\n",
    "    fvar = f[var]\n",
    "    fvar.coords['plev'] = plev\n",
    "    fvar.to_netcdf(dstpath)\n",
    "\n",
    "path1 = \"/home/ys17-23/Extension/personal-data/chenhj/SAM_EAM_data/CMIP6/ssp2452\"\n",
    "variable = [\"zg\", \"ua\", \"va\", \"hus\", \"ta\", \"wap\"]\n",
    "for var in variable:\n",
    "    varpath = os.path.join(path1, var)\n",
    "    g = os.walk(varpath)\n",
    "    for path, dir_list, file_list in g:\n",
    "        for filename in file_list:\n",
    "            print(filename)\n",
    "            uniform_plev(os.path.join(path, filename), os.path.join(\"/home/ys17-23/Extension/personal-data/chenhj/SAM_EAM_data/CMIP6/ssp245\", var, filename), var)"
   ]
  },
  {
   "cell_type": "markdown",
   "metadata": {},
   "source": [
    "# 计算集合平均"
   ]
  },
  {
   "cell_type": "code",
   "execution_count": 5,
   "metadata": {},
   "outputs": [
    {
     "name": "stdout",
     "output_type": "stream",
     "text": [
      "/home/ys17-23/Extension/personal-data/chenhj/SAM_EAM_data/CMIP6/ssp245/ps/ps_Amon_BCC-CSM2-MR_ssp245_r1i1p1f1_gn_201501-209912.nc /home/ys17-23/Extension/personal-data/chenhj/SAM_EAM_data/CMIP6/ssp245/ps/ps_Amon_CAMS-CSM1-0_ssp245_r1i1p1f1_gn_201501-209912.nc /home/ys17-23/Extension/personal-data/chenhj/SAM_EAM_data/CMIP6/ssp245/ps/ps_Amon_CESM2_ssp245_r11i1p1f1_gn_201501-209912.nc /home/ys17-23/Extension/personal-data/chenhj/SAM_EAM_data/CMIP6/ssp245/ps/ps_Amon_CMCC-ESM2_ssp245_r1i1p1f1_gn_201501-209912.nc /home/ys17-23/Extension/personal-data/chenhj/SAM_EAM_data/CMIP6/ssp245/ps/ps_Amon_CNRM-CM6-1_ssp245_r1i1p1f2_gr_201501-209912.nc /home/ys17-23/Extension/personal-data/chenhj/SAM_EAM_data/CMIP6/ssp245/ps/ps_Amon_CNRM-ESM2-1_ssp245_r1i1p1f2_gr_201501-209912.nc /home/ys17-23/Extension/personal-data/chenhj/SAM_EAM_data/CMIP6/ssp245/ps/ps_Amon_EC-Earth3-Veg_ssp245_r1i1p1f1_gr_201501-209912.nc /home/ys17-23/Extension/personal-data/chenhj/SAM_EAM_data/CMIP6/ssp245/ps/ps_Amon_FGOALS-g3_ssp245_r1i1p1f1_gn_201501-209912.nc /home/ys17-23/Extension/personal-data/chenhj/SAM_EAM_data/CMIP6/ssp245/ps/ps_Amon_GFDL-CM4_ssp245_r1i1p1f1_gr1_201501-209912.nc /home/ys17-23/Extension/personal-data/chenhj/SAM_EAM_data/CMIP6/ssp245/ps/ps_Amon_HadGEM3-GC31-LL_ssp245_r1i1p1f3_gn_201501-209912.nc /home/ys17-23/Extension/personal-data/chenhj/SAM_EAM_data/CMIP6/ssp245/ps/ps_Amon_INM-CM4-8_ssp245_r1i1p1f1_gr1_201501-209912.nc /home/ys17-23/Extension/personal-data/chenhj/SAM_EAM_data/CMIP6/ssp245/ps/ps_Amon_INM-CM5-0_ssp245_r1i1p1f1_gr1_201501-209912.nc /home/ys17-23/Extension/personal-data/chenhj/SAM_EAM_data/CMIP6/ssp245/ps/ps_Amon_KACE-1-0-G_ssp245_r1i1p1f1_gr_201501-209912.nc /home/ys17-23/Extension/personal-data/chenhj/SAM_EAM_data/CMIP6/ssp245/ps/ps_Amon_MIROC-ES2L_ssp245_r1i1p1f2_gn_201501-209912.nc /home/ys17-23/Extension/personal-data/chenhj/SAM_EAM_data/CMIP6/ssp245/ps/ps_Amon_MIROC6_ssp245_r1i1p1f1_gn_201501-209912.nc /home/ys17-23/Extension/personal-data/chenhj/SAM_EAM_data/CMIP6/ssp245/ps/ps_Amon_MPI-ESM1-2-HR_ssp245_r1i1p1f1_gn_201501-209912.nc /home/ys17-23/Extension/personal-data/chenhj/SAM_EAM_data/CMIP6/ssp245/ps/ps_Amon_NESM3_ssp245_r1i1p1f1_gn_201501-209912.nc /home/ys17-23/Extension/personal-data/chenhj/SAM_EAM_data/CMIP6/ssp245/ps/ps_Amon_NorESM2-LM_ssp245_r1i1p1f1_gn_201501-209912.nc /home/ys17-23/Extension/personal-data/chenhj/SAM_EAM_data/CMIP6/ssp245/ps/ps_Amon_TaiESM1_ssp245_r1i1p1f1_gn_201501-209912.nc /home/ys17-23/Extension/personal-data/chenhj/SAM_EAM_data/CMIP6/ssp245/ps/ps_Amon_UKESM1-0-LL_ssp245_r3i1p1f2_gn_201501-209912.nc /home/ys17-23/Extension/personal-data/chenhj/SAM_EAM_data/CMIP6/ssp245/ps/ps_Amon_ACCESS-CM2_ssp245_r1i1p1f1_gn_201501-209912.nc /home/ys17-23/Extension/personal-data/chenhj/SAM_EAM_data/CMIP6/ssp245/ps/ps_Amon_CanESM5_ssp245_r1i1p1f1_gn_201501-209912.nc /home/ys17-23/Extension/personal-data/chenhj/SAM_EAM_data/CMIP6/ssp245/ps/ps_Amon_CESM2-WACCM_ssp245_r1i1p1f1_gn_201501-209912.nc /home/ys17-23/Extension/personal-data/chenhj/SAM_EAM_data/CMIP6/ssp245/ps/ps_Amon_IPSL-CM6A-LR_ssp245_r1i1p1f1_gr_201501-209912.nc /home/ys17-23/Extension/personal-data/chenhj/SAM_EAM_data/CMIP6/ssp245/ps/ps_Amon_MRI-ESM2-0_ssp245_r1i1p1f1_gn_201501-209912.nc /home/ys17-23/Extension/personal-data/chenhj/SAM_EAM_data/CMIP6/ssp245/ps/ps_Amon_EC-Earth3_ssp245_r1i1p1f1_gr_201501-209912.nc \n"
     ]
    }
   ],
   "source": [
    "def cdo_ensmean(srcPath, dstPath):\n",
    "    g = os.walk(srcPath)\n",
    "    inputString = \"\"\n",
    "    mergelist = []\n",
    "    for path, dir_list, file_list in g:\n",
    "        for file_name in file_list:\n",
    "            if re.search(\"IITM-ESM\", file_name) == None and re.search(\"ensemble\", file_name) == None:\n",
    "                mergelist.append(os.path.join(path, file_name))\n",
    "    for i in range(len(mergelist)):\n",
    "        inputString += mergelist[i] + \" \"\n",
    "    print(inputString)\n",
    "    cdo.ensmean(input=inputString, output=os.path.join(dstPath, var + \"_Amon_ensemble_ssp245_gn_201501-209912.nc\"))\n",
    "    \n",
    "# variables = [\"hfls\", \"hus\", \"pr\", \"ps\", \"ta\", \"tos\", \"ts\", \"ua\", \"va\", \"wap\", \"zg\"]\n",
    "variables = [\"ps\"]\n",
    "for var in variables:\n",
    "    srcPath = os.path.join(\"/home/ys17-23/Extension/personal-data/chenhj/SAM_EAM_data/CMIP6/ssp245\", var)\n",
    "    dstPath = os.path.join(\"/home/ys17-23/Extension/personal-data/chenhj/SAM_EAM_data/CMIP6/ssp245\", var)\n",
    "    cdo_ensmean(srcPath, dstPath)"
   ]
  },
  {
   "cell_type": "code",
   "execution_count": null,
   "metadata": {},
   "outputs": [],
   "source": []
  }
 ],
 "metadata": {
  "kernelspec": {
   "display_name": "chenhj_test_cartopy",
   "language": "python",
   "name": "python3"
  },
  "language_info": {
   "codemirror_mode": {
    "name": "ipython",
    "version": 3
   },
   "file_extension": ".py",
   "mimetype": "text/x-python",
   "name": "python",
   "nbconvert_exporter": "python",
   "pygments_lexer": "ipython3",
   "version": "3.8.6"
  },
  "orig_nbformat": 4,
  "vscode": {
   "interpreter": {
    "hash": "a403b5a08d9e419105ca972cad2b530db9b85044edbc4b73e170b411b22d73a6"
   }
  }
 },
 "nbformat": 4,
 "nbformat_minor": 2
}
