{
 "cells": [
  {
   "cell_type": "code",
   "execution_count": 1,
   "metadata": {},
   "outputs": [],
   "source": [
    "'''\n",
    "Author: ChenHJ\n",
    "Date: 2022-10-27 17:11:38\n",
    "LastEditors: ChenHJ\n",
    "LastEditTime: 2022-10-27 17:12:05\n",
    "FilePath: /chenhj/0302code/cal_uqvq_detrend.ipynb\n",
    "Aim: \n",
    "计算uq,vq,uqvqdiv的detrend和trend\n",
    "Mission: \n",
    "'''\n",
    "from mailbox import _PartialFile\n",
    "import numpy as np\n",
    "import xarray as xr\n",
    "import os\n",
    "import re\n",
    "from cdo import Cdo\n",
    "import shutil\n",
    "import sys\n",
    "\n",
    "sys.path.append(\"/home/ys17-23/chenhj/self_def/\")\n",
    "import plot as sepl\n",
    "import cal as ca\n",
    "import pandas as pd\n",
    "from importlib import reload\n",
    "\n",
    "import metpy.calc as mpcalc\n",
    "import metpy.constants as constants\n",
    "import geocat.comp\n",
    "from windspharm.xarray import VectorWind\n",
    "import skill_metrics as sm\n",
    "from brokenaxes import brokenaxes\n",
    "\n",
    "reload(sepl)\n",
    "\n",
    "# sd.path.append(\"/home/ys17-23/chenhj/1201code/self_def.py\")\n",
    "\n",
    "cdo = Cdo()\n",
    "\n",
    "# for plot\n",
    "import proplot as pplt\n",
    "import cartopy.crs as ccrs\n",
    "import cartopy.feature as cfeature\n",
    "from cartopy.mpl.ticker import LongitudeFormatter\n",
    "from cartopy.mpl.ticker import LatitudeFormatter\n",
    "from cartopy.util import add_cyclic_point\n",
    "from matplotlib.ticker import MultipleLocator\n",
    "from matplotlib.patches import Rectangle\n",
    "import matplotlib.pyplot as plt\n",
    "from scipy import stats\n",
    "from scipy.stats import t\n",
    "from scipy import signal\n",
    "from eofs.multivariate.standard import MultivariateEof\n",
    "from eofs.standard import Eof"
   ]
  },
  {
   "cell_type": "markdown",
   "metadata": {},
   "source": [
    "### 读取non-detrend的uq、vq、uqvqdiv"
   ]
  },
  {
   "cell_type": "code",
   "execution_count": 2,
   "metadata": {},
   "outputs": [],
   "source": [
    "uqhis_ver_JJA = xr.open_dataarray(\"/home/ys17-23/Extension/personal-data/chenhj/SAM_EAM_data/CMIP6/historical/tmp_var/JJA/non_detrend/his_uq_dpg.nc\")\n",
    "vqhis_ver_JJA = xr.open_dataarray(\"/home/ys17-23/Extension/personal-data/chenhj/SAM_EAM_data/CMIP6/historical/tmp_var/JJA/non_detrend/his_vq_dpg.nc\")\n",
    "\n",
    "uqvqdivhis_ver_JJA = xr.open_dataarray(\"/home/ys17-23/Extension/personal-data/chenhj/SAM_EAM_data/CMIP6/historical/tmp_var/JJA/non_detrend/his_div_uqvq.nc\")\n",
    "\n",
    "uqssp585_ver_JJA = xr.open_dataarray(\"/home/ys17-23/Extension/personal-data/chenhj/SAM_EAM_data/CMIP6/ssp585/tmp_var/JJA/non_detrend/ssp585_uq_dpg.nc\")\n",
    "vqssp585_ver_JJA = xr.open_dataarray(\"/home/ys17-23/Extension/personal-data/chenhj/SAM_EAM_data/CMIP6/ssp585/tmp_var/JJA/non_detrend/ssp585_vq_dpg.nc\")\n",
    "\n",
    "uqvqdivssp585_ver_JJA = xr.open_dataarray(\"/home/ys17-23/Extension/personal-data/chenhj/SAM_EAM_data/CMIP6/ssp585/tmp_var/JJA/non_detrend/ssp585_div_uqvq.nc\")"
   ]
  },
  {
   "cell_type": "markdown",
   "metadata": {},
   "source": [
    "### 将数据从1979-2099年拼接在一起"
   ]
  },
  {
   "cell_type": "code",
   "execution_count": 3,
   "metadata": {},
   "outputs": [],
   "source": [
    "uqCMIP6_ver_JJA = xr.concat([uqhis_ver_JJA.sel(time=uqhis_ver_JJA.time.dt.year>=1979), uqssp585_ver_JJA], \"time\")\n",
    "vqCMIP6_ver_JJA = xr.concat([vqhis_ver_JJA.sel(time=vqhis_ver_JJA.time.dt.year>=1979), vqssp585_ver_JJA], \"time\")\n",
    "uqvqdivCMIP6_ver_JJA = xr.concat([uqvqdivhis_ver_JJA.sel(time=uqvqdivhis_ver_JJA.time.dt.year>=1979), uqvqdivssp585_ver_JJA], \"time\")"
   ]
  },
  {
   "cell_type": "markdown",
   "metadata": {},
   "source": [
    "### 计算变量的trend"
   ]
  },
  {
   "cell_type": "code",
   "execution_count": 4,
   "metadata": {},
   "outputs": [],
   "source": [
    "uqCMIP6_ver_JJA_trend = uqCMIP6_ver_JJA.polyfit(dim=\"time\",deg=1,skipna=True)[\"polyfit_coefficients\"].sel(degree=1)\n",
    "vqCMIP6_ver_JJA_trend = vqCMIP6_ver_JJA.polyfit(dim=\"time\",deg=1,skipna=True)[\"polyfit_coefficients\"].sel(degree=1)\n",
    "uqvqdivCMIP6_ver_JJA_trend = uqvqdivCMIP6_ver_JJA.polyfit(dim=\"time\",deg=1,skipna=True)[\"polyfit_coefficients\"].sel(degree=1)"
   ]
  },
  {
   "cell_type": "markdown",
   "metadata": {},
   "source": [
    "### 输出计算的trend"
   ]
  },
  {
   "cell_type": "code",
   "execution_count": 5,
   "metadata": {},
   "outputs": [],
   "source": [
    "uqCMIP6_ver_JJA_trend.to_netcdf(\"/home/ys17-23/Extension/personal-data/chenhj/SAM_EAM_data/CMIP6/ssp585/tmp_var/JJA/non_detrend/uqCMIP6_trend.nc\")\n",
    "vqCMIP6_ver_JJA_trend.to_netcdf(\"/home/ys17-23/Extension/personal-data/chenhj/SAM_EAM_data/CMIP6/ssp585/tmp_var/JJA/non_detrend/vqCMIP6_trend.nc\")\n",
    "uqvqdivCMIP6_ver_JJA_trend.to_netcdf(\"/home/ys17-23/Extension/personal-data/chenhj/SAM_EAM_data/CMIP6/ssp585/tmp_var/JJA/non_detrend/uqvqdivCMIP6_trend.nc\")"
   ]
  },
  {
   "cell_type": "markdown",
   "metadata": {},
   "source": [
    "### 计算并输出去趋势的结果"
   ]
  },
  {
   "cell_type": "code",
   "execution_count": 6,
   "metadata": {},
   "outputs": [],
   "source": [
    "uqCMIP6_ver_JJA_detrend = ca.detrend_dim(uqCMIP6_ver_JJA, \"time\", deg=1, demean=True)\n",
    "vqCMIP6_ver_JJA_detrend = ca.detrend_dim(vqCMIP6_ver_JJA, \"time\", deg=1, demean=True)\n",
    "uqvqdivCMIP6_ver_JJA_detrend = ca.detrend_dim(uqvqdivCMIP6_ver_JJA, \"time\", deg=1, demean=True)\n",
    "\n",
    "uqCMIP6_ver_JJA_detrend.name = \"uq_dpg\"\n",
    "vqCMIP6_ver_JJA_detrend.name = \"vq_dpg\"\n",
    "uqvqdivCMIP6_ver_JJA_detrend.name = \"div_uqvq\"\n",
    "\n",
    "uqhis_ver_JJA_detrend = ca.detrend_dim(uqCMIP6_ver_JJA_detrend.sel(time=uqCMIP6_ver_JJA_detrend.time.dt.year<=2014), \"time\", deg=1, demean=True)\n",
    "vqhis_ver_JJA_detrend = ca.detrend_dim(vqCMIP6_ver_JJA_detrend.sel(time=vqCMIP6_ver_JJA_detrend.time.dt.year<=2014), \"time\", deg=1, demean=True)\n",
    "uqvqdivhis_ver_JJA_detrend = ca.detrend_dim(uqvqdivCMIP6_ver_JJA_detrend.sel(time=uqvqdivCMIP6_ver_JJA_detrend.time.dt.year<=2014), \"time\", deg=1, demean=True)\n",
    "\n",
    "uqssp585_ver_JJA_detrend = ca.detrend_dim(uqCMIP6_ver_JJA_detrend.sel(time=uqCMIP6_ver_JJA_detrend.time.dt.year>=2015), \"time\", deg=1, demean=True)\n",
    "vqssp585_ver_JJA_detrend = ca.detrend_dim(vqCMIP6_ver_JJA_detrend.sel(time=vqCMIP6_ver_JJA_detrend.time.dt.year>=2015), \"time\", deg=1, demean=True)\n",
    "uqvqdivssp585_ver_JJA_detrend = ca.detrend_dim(uqvqdivCMIP6_ver_JJA_detrend.sel(time=uqvqdivCMIP6_ver_JJA_detrend.time.dt.year>=2015), \"time\", deg=1, demean=True)\n",
    "\n",
    "uqssp585_p3_ver_JJA_detrend = ca.detrend_dim(uqCMIP6_ver_JJA_detrend.sel(time=uqCMIP6_ver_JJA_detrend.time.dt.year>=2064), \"time\", deg=1, demean=True)\n",
    "vqssp585_p3_ver_JJA_detrend = ca.detrend_dim(vqCMIP6_ver_JJA_detrend.sel(time=vqCMIP6_ver_JJA_detrend.time.dt.year>=2064), \"time\", deg=1, demean=True)\n",
    "uqvqdivssp585_p3_ver_JJA_detrend = ca.detrend_dim(uqvqdivCMIP6_ver_JJA_detrend.sel(time=uqvqdivCMIP6_ver_JJA_detrend.time.dt.year>=2064), \"time\", deg=1, demean=True)\n",
    "\n",
    "\n",
    "uqhis_ver_JJA_detrend.name = \"uq_dpg\"\n",
    "vqhis_ver_JJA_detrend.name = \"vq_dpg\"\n",
    "uqvqdivhis_ver_JJA_detrend.name = \"div_uqvq\"\n",
    "\n",
    "uqssp585_ver_JJA_detrend.name = \"uq_dpg\"\n",
    "vqssp585_ver_JJA_detrend.name = \"vq_dpg\"\n",
    "uqvqdivssp585_ver_JJA_detrend.name = \"div_uqvq\"\n",
    "\n",
    "uqssp585_p3_ver_JJA_detrend.name = \"uq_dpg\"\n",
    "vqssp585_p3_ver_JJA_detrend.name = \"vq_dpg\"\n",
    "uqvqdivssp585_p3_ver_JJA_detrend.name = \"div_uqvq\"\n",
    "\n",
    "uqhis_ver_JJA_detrend.to_netcdf(\"/home/ys17-23/Extension/personal-data/chenhj/SAM_EAM_data/CMIP6/historical/tmp_var/JJA/detrend/his_uq_dpg.nc\")\n",
    "vqhis_ver_JJA_detrend.to_netcdf(\"/home/ys17-23/Extension/personal-data/chenhj/SAM_EAM_data/CMIP6/historical/tmp_var/JJA/detrend/his_vq_dpg.nc\")\n",
    "uqvqdivhis_ver_JJA_detrend.to_netcdf(\"/home/ys17-23/Extension/personal-data/chenhj/SAM_EAM_data/CMIP6/historical/tmp_var/JJA/detrend/his_div_uqvq_dpg.nc\")\n",
    "\n",
    "uqssp585_ver_JJA_detrend.to_netcdf(\"/home/ys17-23/Extension/personal-data/chenhj/SAM_EAM_data/CMIP6/ssp585/tmp_var/JJA/detrend/ssp585_uq_dpg.nc\")\n",
    "vqssp585_ver_JJA_detrend.to_netcdf(\"/home/ys17-23/Extension/personal-data/chenhj/SAM_EAM_data/CMIP6/ssp585/tmp_var/JJA/detrend/ssp585_vq_dpg.nc\")\n",
    "uqvqdivssp585_ver_JJA_detrend.to_netcdf(\"/home/ys17-23/Extension/personal-data/chenhj/SAM_EAM_data/CMIP6/ssp585/tmp_var/JJA/detrend/ssp585_div_uqvq_dpg.nc\")\n",
    "\n",
    "uqssp585_p3_ver_JJA_detrend.to_netcdf(\"/home/ys17-23/Extension/personal-data/chenhj/SAM_EAM_data/CMIP6/ssp585/tmp_var/JJA/detrend/ssp585_p3_uq_dpg.nc\")\n",
    "vqssp585_p3_ver_JJA_detrend.to_netcdf(\"/home/ys17-23/Extension/personal-data/chenhj/SAM_EAM_data/CMIP6/ssp585/tmp_var/JJA/detrend/ssp585_p3_vq_dpg.nc\")\n",
    "uqvqdivssp585_p3_ver_JJA_detrend.to_netcdf(\"/home/ys17-23/Extension/personal-data/chenhj/SAM_EAM_data/CMIP6/ssp585/tmp_var/JJA/detrend/ssp585_p3_div_uqvq_dpg.nc\")"
   ]
  }
 ],
 "metadata": {
  "kernelspec": {
   "display_name": "Python 3.8.11 ('chenhj')",
   "language": "python",
   "name": "python3"
  },
  "language_info": {
   "codemirror_mode": {
    "name": "ipython",
    "version": 3
   },
   "file_extension": ".py",
   "mimetype": "text/x-python",
   "name": "python",
   "nbconvert_exporter": "python",
   "pygments_lexer": "ipython3",
   "version": "3.8.11"
  },
  "orig_nbformat": 4,
  "vscode": {
   "interpreter": {
    "hash": "e0fa63790d53d2ab682d05beba9048c8687eff8f27842f8d9fc557eedf9873fa"
   }
  }
 },
 "nbformat": 4,
 "nbformat_minor": 2
}
